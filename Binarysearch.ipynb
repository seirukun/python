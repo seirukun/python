{
  "nbformat": 4,
  "nbformat_minor": 0,
  "metadata": {
    "colab": {
      "name": "Binarysearch.ipynb",
      "provenance": [],
      "authorship_tag": "ABX9TyNSs6a7SNASF0tKdgQ3G3M3",
      "include_colab_link": true
    },
    "kernelspec": {
      "name": "python3",
      "display_name": "Python 3"
    }
  },
  "cells": [
    {
      "cell_type": "markdown",
      "metadata": {
        "id": "view-in-github",
        "colab_type": "text"
      },
      "source": [
        "<a href=\"https://colab.research.google.com/github/seirukun/python/blob/main/Binarysearch.ipynb\" target=\"_parent\"><img src=\"https://colab.research.google.com/assets/colab-badge.svg\" alt=\"Open In Colab\"/></a>"
      ]
    },
    {
      "cell_type": "markdown",
      "metadata": {
        "id": "Y92vOUSoLE8f"
      },
      "source": [
        ""
      ]
    },
    {
      "cell_type": "code",
      "metadata": {
        "id": "miRyQ5u-s384"
      },
      "source": [
        "from google.colab import drive\n",
        "drive.mount('/content/drive')"
      ],
      "execution_count": null,
      "outputs": []
    },
    {
      "cell_type": "code",
      "metadata": {
        "colab": {
          "base_uri": "https://localhost:8080/"
        },
        "id": "lpRHqr4nTvvy",
        "outputId": "8bac8110-10d5-4a1f-b55a-93aee4d9bb37"
      },
      "source": [
        "def binary_search(arr, low, high, x): \n",
        "  \n",
        "    # Check base case \n",
        "    if high >= low: \n",
        "  \n",
        "        mid = (high + low) // 2\n",
        "  \n",
        "        # If element is present at the middle itself \n",
        "        if arr[mid] == x: \n",
        "            return mid \n",
        "  \n",
        "        # If element is smaller than mid, then it can only \n",
        "        # be present in left subarray \n",
        "        elif arr[mid] > x: \n",
        "            return binary_search(arr, low, mid - 1, x) \n",
        "  \n",
        "        # Else the element can only be present in right subarray \n",
        "        else: \n",
        "            return binary_search(arr, mid + 1, high, x) \n",
        "  \n",
        "    else: \n",
        "        # Element is not present in the array \n",
        "        return -1\n",
        "  \n",
        "# Test array \n",
        "arr = [ 2, 3, 4, 10, 40 ] \n",
        "x = 10\n",
        "  \n",
        "# Function call \n",
        "result = binary_search(arr, 0, len(arr)-1, x) \n",
        "  \n",
        "if result != -1: \n",
        "    print(\"Element is present at index\", str(result)) \n",
        "else: \n",
        "    print(\"Element is not present in array\") "
      ],
      "execution_count": 1,
      "outputs": [
        {
          "output_type": "stream",
          "text": [
            "Element is present at index 3\n"
          ],
          "name": "stdout"
        }
      ]
    }
  ]
}